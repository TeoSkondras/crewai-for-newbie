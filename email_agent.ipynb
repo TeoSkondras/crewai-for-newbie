{
 "cells": [
  {
   "cell_type": "code",
   "execution_count": 2,
   "id": "1b9a2808",
   "metadata": {},
   "outputs": [
    {
     "data": {
      "text/plain": [
       "True"
      ]
     },
     "execution_count": 2,
     "metadata": {},
     "output_type": "execute_result"
    }
   ],
   "source": [
    "from dotenv import load_dotenv\n",
    "load_dotenv()"
   ]
  },
  {
   "cell_type": "code",
   "execution_count": 5,
   "id": "8f1deacc",
   "metadata": {},
   "outputs": [
    {
     "data": {
      "text/plain": [
       "'The capital of France is Paris.'"
      ]
     },
     "execution_count": 5,
     "metadata": {},
     "output_type": "execute_result"
    }
   ],
   "source": [
    "from crewai import LLM\n",
    "\n",
    "llm = LLM(\"gpt-4.1-nano\",temperature=0.01)\n",
    "\n",
    "llm.call(\n",
    "    \"What is the capital of France?\")"
   ]
  },
  {
   "cell_type": "code",
   "execution_count": null,
   "id": "3c083a92",
   "metadata": {},
   "outputs": [],
   "source": [
    "from crewai import Agent, Task, Crew\n",
    "\n",
    "email_assistant = Agent(\n",
    "    role=\"Email_Assistant\",\n",
    "    goal=\"Improve email messages to make them more effective.\",\n",
    "    backstory=\"You are an email assistant that helps users improve their email messages. You can suggest changes to the subject line, body, and other parts of the email to make it more effective.\",\n",
    "    verbose=True,\n",
    "    llm=llm\n",
    ")\n",
    "\n",
    "bad_email = \"\"\"Subject: Meeting\n",
    "Hi Nick,\n",
    "Let's meet tomorrow at 10 AM to discuss the project.\n",
    "Thanks,\n",
    "Best,\n",
    "John\"\"\"\n",
    "\n",
    "email_task = Task(\n",
    "    description=\"Improve the following email message to make it more effective.\",\n",
    "    input=original_email,\n",
    ")"
   ]
  }
 ],
 "metadata": {
  "kernelspec": {
   "display_name": "crewai-for-newbie",
   "language": "python",
   "name": "python3"
  },
  "language_info": {
   "codemirror_mode": {
    "name": "ipython",
    "version": 3
   },
   "file_extension": ".py",
   "mimetype": "text/x-python",
   "name": "python",
   "nbconvert_exporter": "python",
   "pygments_lexer": "ipython3",
   "version": "3.12.11"
  }
 },
 "nbformat": 4,
 "nbformat_minor": 5
}

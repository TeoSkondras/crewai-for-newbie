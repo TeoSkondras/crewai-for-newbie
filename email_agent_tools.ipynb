{
 "cells": [
  {
   "cell_type": "code",
   "execution_count": 1,
   "id": "1b9a2808",
   "metadata": {},
   "outputs": [
    {
     "data": {
      "text/plain": [
       "True"
      ]
     },
     "execution_count": 1,
     "metadata": {},
     "output_type": "execute_result"
    }
   ],
   "source": [
    "from dotenv import load_dotenv\n",
    "load_dotenv()"
   ]
  },
  {
   "cell_type": "code",
   "execution_count": 2,
   "id": "8f1deacc",
   "metadata": {},
   "outputs": [
    {
     "data": {
      "text/plain": [
       "'The capital of France is Paris.'"
      ]
     },
     "execution_count": 2,
     "metadata": {},
     "output_type": "execute_result"
    }
   ],
   "source": [
    "from crewai import LLM\n",
    "\n",
    "llm = LLM(\"gpt-4.1-nano\",temperature=0.01)\n",
    "\n",
    "llm.call(\n",
    "    \"What is the capital of France?\")"
   ]
  },
  {
   "cell_type": "code",
   "execution_count": 8,
   "id": "81fb927c",
   "metadata": {},
   "outputs": [],
   "source": [
    "email_with_bad_abbreviation=\"\"\"\n",
    "Subject: Fw: URGENT: Pls Rply ASAP\n",
    "Hi,\n",
    "I hope this email finds you well. I am writing to follow up on the previous email I sent regarding the project deadline. It is very important that we receive your feedback as soon as possible so that we can proceed with the next steps.\n",
    "As you know, the UJRNT project is critical for our success, and we need your input to ensure that we are on the right track. Please let us know your thoughts on the matter at your earliest convenience.\n",
    "\n",
    "Best,\n",
    "Thanos\n",
    "\"\"\""
   ]
  },
  {
   "cell_type": "code",
   "execution_count": null,
   "id": "3c99ffac",
   "metadata": {},
   "outputs": [
    {
     "name": "stdout",
     "output_type": "stream",
     "text": [
      "Using Tool: replace_jargon\n"
     ]
    },
    {
     "data": {
      "text/plain": [
       "\"Consider the following suggestions to improve your email:\\nReplace 'pls' with 'please'\\nReplace 'rply' with 'reply'\\nReplace 'asap' with 'as soon as possible'\""
      ]
     },
     "execution_count": 9,
     "metadata": {},
     "output_type": "execute_result"
    }
   ],
   "source": [
    "from crewai.tools import BaseTool\n",
    "\n",
    "class ReplaceJargonTool(BaseTool):\n",
    "    name: str = \"replace_jargon\"\n",
    "    description: str = \"Replaces jargon or abbreviations in an email with more professional language.\"\n",
    "\n",
    "    def _run(self, email: str) -> str:\n",
    "        # Example implementation that replaces common jargon with more professional terms\n",
    "        replacements = {\n",
    "            \"pls\": \"please\",\n",
    "            \"rply\": \"reply\",\n",
    "            \"asap\": \"as soon as possible\",\n",
    "            \"thx\": \"thank you\",\n",
    "            \"btw\": \"by the way\",\n",
    "            \"ujrnt\" : \"unifed joint research network team\",\n",
    "        }\n",
    "        suggestions = []\n",
    "        email_lower = email.lower()\n",
    "        for jargon in replacements.keys():\n",
    "            if jargon in email_lower:\n",
    "                suggestions.append(f\"Replace '{jargon}' with '{replacements[jargon]}'\")\n",
    "        #return the list as a string\n",
    "        if suggestions:\n",
    "            return \"Consider the following suggestions to improve your email:\\n\" + \"\\n\".join(suggestions)\n",
    "        else:\n",
    "            return \"No jargon found in the email.\"\n",
    "\n",
    "jt = ReplaceJargonTool()\n",
    "jt.run(email_with_bad_abbreviation)"
   ]
  },
  {
   "cell_type": "code",
   "execution_count": null,
   "id": "3c083a92",
   "metadata": {},
   "outputs": [],
   "source": [
    "from crewai import Agent, Task, Crew\n",
    "\n",
    "email_assistant = Agent(\n",
    "    role=\"Email_Assistant\",\n",
    "    goal=\"Improve email messages to make them more effective.\",\n",
    "    backstory=\"You are an email assistant that helps users improve their email messages. You can suggest changes to the subject line, body, and other parts of the email to make it more effective.\",\n",
    "    verbose=True,\n",
    "    llm=llm\n",
    ")\n",
    "\n",
    "email_task = Task(\n",
    "    description=\"Improve the following email message to make it more effective:{\\n\\n\" + email_with_bad_abbreviation + \"\\n}\",\n",
    "    agent=email_assistant,\n",
    "    expected_output=\"A professional and effective email message that improves the original email.\",\n",
    ")\n",
    "\n",
    "crew = Crew(\n",
    "    agents=[email_assistant],\n",
    "    tasks=[email_task],\n",
    "    verbose=True,\n",
    ")\n",
    "\n",
    "results = crew.kickoff()\n",
    "results"
   ]
  }
 ],
 "metadata": {
  "kernelspec": {
   "display_name": "crewai-for-newbie",
   "language": "python",
   "name": "python3"
  },
  "language_info": {
   "codemirror_mode": {
    "name": "ipython",
    "version": 3
   },
   "file_extension": ".py",
   "mimetype": "text/x-python",
   "name": "python",
   "nbconvert_exporter": "python",
   "pygments_lexer": "ipython3",
   "version": "3.12.11"
  }
 },
 "nbformat": 4,
 "nbformat_minor": 5
}
